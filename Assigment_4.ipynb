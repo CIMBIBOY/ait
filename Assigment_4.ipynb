{
  "nbformat": 4,
  "nbformat_minor": 0,
  "metadata": {
    "anaconda-cloud": {},
    "kernelspec": {
      "display_name": "Python 3",
      "language": "python",
      "name": "python3"
    },
    "language_info": {
      "codemirror_mode": {
        "name": "ipython",
        "version": 3
      },
      "file_extension": ".py",
      "mimetype": "text/x-python",
      "name": "python",
      "nbconvert_exporter": "python",
      "pygments_lexer": "ipython3",
      "version": "3.6.6"
    },
    "colab": {
      "provenance": [],
      "include_colab_link": true
    },
    "accelerator": "GPU"
  },
  "cells": [
    {
      "cell_type": "markdown",
      "metadata": {
        "id": "view-in-github",
        "colab_type": "text"
      },
      "source": [
        "<a href=\"https://colab.research.google.com/github/CIMBIBOY/ait/blob/main/Assigment_4.ipynb\" target=\"_parent\"><img src=\"https://colab.research.google.com/assets/colab-badge.svg\" alt=\"Open In Colab\"/></a>"
      ]
    },
    {
      "cell_type": "markdown",
      "metadata": {
        "id": "cW-EyI5Lxpqi"
      },
      "source": [
        "# Copyright\n",
        "\n",
        "<PRE>\n",
        "Copyright (c) 2024 Bálint Gyires-Tóth - All Rights Reserved\n",
        "You may use and modify this code for research and development purpuses.\n",
        "Using this code for educational purposes (self-paced or instructor led) without the permission of the author is prohibited.\n",
        "</PRE>"
      ]
    },
    {
      "cell_type": "markdown",
      "source": [
        "# Convolutional Neural Network exercise\n",
        "\n",
        "In this notebook, you will build a convolutional neural network, which offers superior results over the previous MLP solution. Additionally, you will perform a more detailed evaluation."
      ],
      "metadata": {
        "id": "3EX4cCa4WKJu"
      }
    },
    {
      "cell_type": "code",
      "source": [
        "# imports\n",
        "from tensorflow import keras\n",
        "from keras.datasets import cifar10\n",
        "from keras.utils import to_categorical\n",
        "import numpy as np\n",
        "import matplotlib.pyplot as plt\n",
        "from keras.models import Sequential\n",
        "from keras.layers import Dense, Conv2D, MaxPool2D, Flatten, Dropout, BatchNormalization\n",
        "from keras.initializers import HeNormal\n",
        "from keras.callbacks import EarlyStopping\n",
        "from keras.optimizers import Adam"
      ],
      "metadata": {
        "id": "GdCMhy4HA2qd"
      },
      "execution_count": 11,
      "outputs": []
    },
    {
      "cell_type": "markdown",
      "source": [
        "# 1. Data\n",
        "The dataset we will use is the well-known CIFAR10 (Canadian Institute For Advanced Research). Explore the details on the Keras website first: https://keras.io/api/datasets/cifar10/\n",
        "\n",
        "There isn't much difference between the data preprocessing part and the one we did before. The only difference is that we don't have to reshape images into vectors, but we are working with a 4 dimensional data structure, where the dimensions are: batch, X, Y, and color channels.\n",
        "\n",
        "In the event that anything is not clear regarding the data preparation part, please check the previous CIFAR10 notebook."
      ],
      "metadata": {
        "id": "yY9fztIeWIKt"
      }
    },
    {
      "cell_type": "code",
      "source": [
        "(X_train, Y_train), (X_test, Y_test) = cifar10.load_data()"
      ],
      "metadata": {
        "id": "bez7q0eiWQCK",
        "colab": {
          "base_uri": "https://localhost:8080/"
        },
        "outputId": "07fe7ee1-dacd-4bbc-beac-3e5cc2f307fc"
      },
      "execution_count": 2,
      "outputs": [
        {
          "output_type": "stream",
          "name": "stdout",
          "text": [
            "Downloading data from https://www.cs.toronto.edu/~kriz/cifar-10-python.tar.gz\n",
            "170498071/170498071 [==============================] - 4s 0us/step\n"
          ]
        }
      ]
    },
    {
      "cell_type": "code",
      "source": [
        "# it is in int8 format, the neural network requires float32\n",
        "X_train = X_train.astype(\"float32\")\n",
        "X_test = X_test.astype(\"float32\")"
      ],
      "metadata": {
        "id": "vukOcBM0XzSj"
      },
      "execution_count": 3,
      "outputs": []
    },
    {
      "cell_type": "code",
      "source": [
        "train_ratio  = 0.8\n",
        "train_length = X_train.shape[0]\n",
        "train_split  = int(train_ratio*train_length)\n",
        "X_valid, Y_valid = X_train[train_split:], Y_train[train_split:]\n",
        "X_train, Y_train = X_train[:train_split], Y_train[:train_split]"
      ],
      "metadata": {
        "id": "mRwuWxxIxLgN"
      },
      "execution_count": 4,
      "outputs": []
    },
    {
      "cell_type": "code",
      "source": [
        "mean = X_train.mean(axis=0)\n",
        "std  = X_train.std(axis=0)\n",
        "\n",
        "X_train = (X_train-mean)/std\n",
        "X_valid = (X_valid-mean)/std\n",
        "X_test  = (X_test-mean)/std"
      ],
      "metadata": {
        "id": "2ESLP1EIyB2J"
      },
      "execution_count": 5,
      "outputs": []
    },
    {
      "cell_type": "code",
      "source": [
        "nb_classes = len(np.unique(Y_train))\n",
        "Y_train = to_categorical(Y_train, nb_classes)\n",
        "Y_valid = to_categorical(Y_valid, nb_classes)\n",
        "Y_test  = to_categorical(Y_test, nb_classes)"
      ],
      "metadata": {
        "id": "xwZ4OJ6I8lba"
      },
      "execution_count": 6,
      "outputs": []
    },
    {
      "cell_type": "code",
      "source": [
        "print(\"Shapes of the training, validation and test input data:\", X_train.shape, X_valid.shape, X_test.shape)\n",
        "print(\"Shapes of the training, validation and test output data:\", Y_train.shape, Y_valid.shape, Y_test.shape)\n",
        "print(\"Mean values of the training, validation and test input data:\", X_train.mean(), X_valid.mean(), X_test.mean())\n",
        "print(\"Standard deviation of the training, validation and test input data:\", X_train.std(), X_valid.std(), X_test.std())"
      ],
      "metadata": {
        "id": "O_jdJVcvX0vi",
        "colab": {
          "base_uri": "https://localhost:8080/"
        },
        "outputId": "3c46ef84-0e1f-4c31-9e92-4e192236dcac"
      },
      "execution_count": 7,
      "outputs": [
        {
          "output_type": "stream",
          "name": "stdout",
          "text": [
            "Shapes of the training, validation and test input data: (40000, 32, 32, 3) (10000, 32, 32, 3) (10000, 32, 32, 3)\n",
            "Shapes of the training, validation and test output data: (40000, 10) (10000, 10) (10000, 10)\n",
            "Mean values of the training, validation and test input data: 2.2788842e-09 0.0023437198 0.013331206\n",
            "Standard deviation of the training, validation and test input data: 1.0000023 0.9965626 0.99783075\n"
          ]
        }
      ]
    },
    {
      "cell_type": "markdown",
      "metadata": {
        "id": "cJ14oyZExpqj"
      },
      "source": [
        "# 2. Exercise: training"
      ]
    },
    {
      "cell_type": "markdown",
      "source": [
        "Create and train a convolutional neural network with the following requirements:\n",
        "* apply early stopping with patience=5 and monitor the validation accuracy, don't forget to load back the best weights after early stopping\n",
        "* the number of trainable parameters is lower than 200.000\n",
        "* the validation accuracy must be higher than 72%\n",
        "\n",
        "Hints:\n",
        "* you can always inspect the number of trainable parameters per layer with model.summary()\n",
        "* usually the most trainable parameters are between the last convolutional layer and the next dense layer -- so you should have a reasonable output size at the last convolutional layer\n",
        "* regularization helps (e.g. DropOut and/or BatchNormalization)\n",
        "* use the right activation function at the output layer and the corresponding loss function\n",
        "* for the chosen activation functions, please use the appropriate initialization method\n",
        "* you can match the dimension of the last conv/pooling layer to the next dense layer with e.g. Flatten()\n",
        "* ADAM optimizer is a reasonable choice\n",
        "* don't forget to turn on GPU support in Colab, otherwise, it would be quite slow to train the networks\n",
        "\n"
      ],
      "metadata": {
        "id": "j1tGVPdD-pp3"
      }
    },
    {
      "cell_type": "code",
      "source": [
        "# early stopping\n",
        "es = keras.callbacks.EarlyStopping(\n",
        "    monitor='val_accuracy',\n",
        "    patience=5,\n",
        "    # min_delta=0.001,\n",
        "    restore_best_weights=True\n",
        ")"
      ],
      "metadata": {
        "id": "5dBQxJHIHrbd"
      },
      "execution_count": 12,
      "outputs": []
    },
    {
      "cell_type": "code",
      "source": [
        "# dropout rate\n",
        "from random import uniform\n",
        "dropout_rate = uniform(0.1, 0.5)\n",
        "\n",
        "# model definition\n",
        "model = Sequential([\n",
        "    Conv2D(16, (3, 3), activation='relu', padding='same', input_shape=(32, 32, 3), kernel_initializer=HeNormal()),\n",
        "    Conv2D(16, (3, 3), activation='relu', padding='same', kernel_initializer=HeNormal()),\n",
        "    MaxPool2D((2, 2)),\n",
        "    Dropout(dropout_rate),\n",
        "\n",
        "    Conv2D(32, (3, 3), activation='relu', padding='same', kernel_initializer=HeNormal()),\n",
        "    Conv2D(32, (3, 3), activation='relu', padding='same', kernel_initializer=HeNormal()),\n",
        "    MaxPool2D((2, 2)),\n",
        "    Dropout(dropout_rate),\n",
        "\n",
        "    Flatten(),\n",
        "    Dense(64, activation='relu', kernel_initializer=HeNormal()),\n",
        "    Dropout(dropout_rate),\n",
        "    Dense(nb_classes, activation='softmax')\n",
        "])\n",
        "\n",
        "# Compile - loss function and optimizer\n",
        "model.compile(optimizer=Adam(), loss='categorical_crossentropy', metrics=['accuracy'])"
      ],
      "metadata": {
        "id": "PuxHOqLt-3Nd"
      },
      "execution_count": 17,
      "outputs": []
    },
    {
      "cell_type": "code",
      "source": [
        "model.summary()"
      ],
      "metadata": {
        "id": "5eomQw8uE9Ix",
        "colab": {
          "base_uri": "https://localhost:8080/"
        },
        "outputId": "6a12aa43-904f-4f3d-e0e3-3f361f3d7f17"
      },
      "execution_count": 18,
      "outputs": [
        {
          "output_type": "stream",
          "name": "stdout",
          "text": [
            "Model: \"sequential_1\"\n",
            "_________________________________________________________________\n",
            " Layer (type)                Output Shape              Param #   \n",
            "=================================================================\n",
            " conv2d_8 (Conv2D)           (None, 32, 32, 16)        448       \n",
            "                                                                 \n",
            " conv2d_9 (Conv2D)           (None, 32, 32, 16)        2320      \n",
            "                                                                 \n",
            " max_pooling2d_2 (MaxPoolin  (None, 16, 16, 16)        0         \n",
            " g2D)                                                            \n",
            "                                                                 \n",
            " dropout_3 (Dropout)         (None, 16, 16, 16)        0         \n",
            "                                                                 \n",
            " conv2d_10 (Conv2D)          (None, 16, 16, 32)        4640      \n",
            "                                                                 \n",
            " conv2d_11 (Conv2D)          (None, 16, 16, 32)        9248      \n",
            "                                                                 \n",
            " max_pooling2d_3 (MaxPoolin  (None, 8, 8, 32)          0         \n",
            " g2D)                                                            \n",
            "                                                                 \n",
            " dropout_4 (Dropout)         (None, 8, 8, 32)          0         \n",
            "                                                                 \n",
            " flatten_1 (Flatten)         (None, 2048)              0         \n",
            "                                                                 \n",
            " dense_2 (Dense)             (None, 64)                131136    \n",
            "                                                                 \n",
            " dropout_5 (Dropout)         (None, 64)                0         \n",
            "                                                                 \n",
            " dense_3 (Dense)             (None, 10)                650       \n",
            "                                                                 \n",
            "=================================================================\n",
            "Total params: 148442 (579.85 KB)\n",
            "Trainable params: 148442 (579.85 KB)\n",
            "Non-trainable params: 0 (0.00 Byte)\n",
            "_________________________________________________________________\n"
          ]
        }
      ]
    },
    {
      "cell_type": "markdown",
      "source": [
        "Please, check the number of trainable paramers:"
      ],
      "metadata": {
        "id": "8tIbIIeTEI41"
      }
    },
    {
      "cell_type": "code",
      "source": [
        "print(\"#trainable parameters:\", model.count_params())"
      ],
      "metadata": {
        "id": "xdBAG7EJETlX",
        "colab": {
          "base_uri": "https://localhost:8080/"
        },
        "outputId": "ee997974-c5b2-426c-fd93-5eecfa68f16a"
      },
      "execution_count": 19,
      "outputs": [
        {
          "output_type": "stream",
          "name": "stdout",
          "text": [
            "#trainable parameters: 148442\n"
          ]
        }
      ]
    },
    {
      "cell_type": "code",
      "source": [
        "# training\n",
        "model.fit(X_train, Y_train, batch_size=64, epochs=200, validation_data=(X_valid, Y_valid), callbacks=[es])"
      ],
      "metadata": {
        "id": "u8tFNCNVHyt9",
        "colab": {
          "base_uri": "https://localhost:8080/"
        },
        "outputId": "ad0e9f01-97e2-4826-af61-b5112183dcef"
      },
      "execution_count": 20,
      "outputs": [
        {
          "output_type": "stream",
          "name": "stdout",
          "text": [
            "Epoch 1/200\n",
            "625/625 [==============================] - 11s 8ms/step - loss: 1.6732 - accuracy: 0.3945 - val_loss: 1.3498 - val_accuracy: 0.5184\n",
            "Epoch 2/200\n",
            "625/625 [==============================] - 4s 6ms/step - loss: 1.2602 - accuracy: 0.5483 - val_loss: 1.0893 - val_accuracy: 0.6199\n",
            "Epoch 3/200\n",
            "625/625 [==============================] - 4s 6ms/step - loss: 1.1014 - accuracy: 0.6090 - val_loss: 0.9742 - val_accuracy: 0.6556\n",
            "Epoch 4/200\n",
            "625/625 [==============================] - 4s 6ms/step - loss: 0.9968 - accuracy: 0.6452 - val_loss: 0.9252 - val_accuracy: 0.6761\n",
            "Epoch 5/200\n",
            "625/625 [==============================] - 4s 6ms/step - loss: 0.9214 - accuracy: 0.6729 - val_loss: 0.8771 - val_accuracy: 0.6928\n",
            "Epoch 6/200\n",
            "625/625 [==============================] - 4s 6ms/step - loss: 0.8553 - accuracy: 0.6945 - val_loss: 0.8472 - val_accuracy: 0.7046\n",
            "Epoch 7/200\n",
            "625/625 [==============================] - 4s 7ms/step - loss: 0.8118 - accuracy: 0.7121 - val_loss: 0.8267 - val_accuracy: 0.7154\n",
            "Epoch 8/200\n",
            "625/625 [==============================] - 4s 6ms/step - loss: 0.7624 - accuracy: 0.7286 - val_loss: 0.8115 - val_accuracy: 0.7198\n",
            "Epoch 9/200\n",
            "625/625 [==============================] - 4s 6ms/step - loss: 0.7333 - accuracy: 0.7418 - val_loss: 0.8015 - val_accuracy: 0.7247\n",
            "Epoch 10/200\n",
            "625/625 [==============================] - 4s 7ms/step - loss: 0.6952 - accuracy: 0.7544 - val_loss: 0.7794 - val_accuracy: 0.7348\n",
            "Epoch 11/200\n",
            "625/625 [==============================] - 4s 6ms/step - loss: 0.6707 - accuracy: 0.7614 - val_loss: 0.7881 - val_accuracy: 0.7330\n",
            "Epoch 12/200\n",
            "625/625 [==============================] - 4s 6ms/step - loss: 0.6484 - accuracy: 0.7684 - val_loss: 0.7691 - val_accuracy: 0.7404\n",
            "Epoch 13/200\n",
            "625/625 [==============================] - 4s 7ms/step - loss: 0.6192 - accuracy: 0.7805 - val_loss: 0.7807 - val_accuracy: 0.7371\n",
            "Epoch 14/200\n",
            "625/625 [==============================] - 4s 6ms/step - loss: 0.6046 - accuracy: 0.7839 - val_loss: 0.7931 - val_accuracy: 0.7390\n",
            "Epoch 15/200\n",
            "625/625 [==============================] - 4s 6ms/step - loss: 0.5820 - accuracy: 0.7940 - val_loss: 0.7855 - val_accuracy: 0.7421\n",
            "Epoch 16/200\n",
            "625/625 [==============================] - 4s 7ms/step - loss: 0.5561 - accuracy: 0.8014 - val_loss: 0.7801 - val_accuracy: 0.7461\n",
            "Epoch 17/200\n",
            "625/625 [==============================] - 4s 6ms/step - loss: 0.5455 - accuracy: 0.8035 - val_loss: 0.7708 - val_accuracy: 0.7528\n",
            "Epoch 18/200\n",
            "625/625 [==============================] - 4s 6ms/step - loss: 0.5242 - accuracy: 0.8128 - val_loss: 0.8128 - val_accuracy: 0.7428\n",
            "Epoch 19/200\n",
            "625/625 [==============================] - 4s 7ms/step - loss: 0.5167 - accuracy: 0.8125 - val_loss: 0.8021 - val_accuracy: 0.7431\n",
            "Epoch 20/200\n",
            "625/625 [==============================] - 4s 6ms/step - loss: 0.4999 - accuracy: 0.8191 - val_loss: 0.8235 - val_accuracy: 0.7399\n",
            "Epoch 21/200\n",
            "625/625 [==============================] - 4s 6ms/step - loss: 0.4937 - accuracy: 0.8237 - val_loss: 0.8097 - val_accuracy: 0.7423\n",
            "Epoch 22/200\n",
            "625/625 [==============================] - 4s 7ms/step - loss: 0.4822 - accuracy: 0.8260 - val_loss: 0.7918 - val_accuracy: 0.7493\n"
          ]
        },
        {
          "output_type": "execute_result",
          "data": {
            "text/plain": [
              "<keras.src.callbacks.History at 0x7cd48af96a70>"
            ]
          },
          "metadata": {},
          "execution_count": 20
        }
      ]
    },
    {
      "cell_type": "markdown",
      "source": [
        "# 3. Exercise: evaluation on test data\n",
        "You will evaluate the classification of the test data using the common metrics and the confusion matrix in this section.\n",
        "\n",
        "\n",
        "As a first stes, let's run the predictions and convert the predicted softmax outputs to dense labels. The one-hot encoded labels are also converted back to dense labels, as they are required for the evaluation functions."
      ],
      "metadata": {
        "id": "2FtKp-a2-A9m"
      }
    },
    {
      "cell_type": "code",
      "source": [
        "probas = model.predict(X_test)\n",
        "# softmax outputs to dense\n",
        "y_pred_dense = np.argmax(probas, axis=1)\n",
        "\n",
        "# one-hot to dense\n",
        "y_test_dense = np.argmax(Y_test, axis=1) # get the original dense labels of the test data"
      ],
      "metadata": {
        "id": "EcWAqwlDMq3y",
        "colab": {
          "base_uri": "https://localhost:8080/"
        },
        "outputId": "5849d711-9de9-4471-f3ed-68ca37bbc1c1"
      },
      "execution_count": 21,
      "outputs": [
        {
          "output_type": "stream",
          "name": "stdout",
          "text": [
            "313/313 [==============================] - 1s 2ms/step\n"
          ]
        }
      ]
    },
    {
      "cell_type": "markdown",
      "source": [
        "## 3.1. Exercise: Metrics\n",
        "please review the common classification metrics (accuracy, precision, recall, F1) for the complete model (not per class).\n",
        "\n",
        "Hints:\n",
        "* use macro averaging\n",
        "* you have to import the right functions from [sklearn.metrics](https://scikit-learn.org/stable/modules/model_evaluation.html)\n"
      ],
      "metadata": {
        "id": "RWJ-PH_iMs9K"
      }
    },
    {
      "cell_type": "code",
      "source": [
        "from sklearn.metrics import accuracy_score, precision_score, recall_score, f1_score"
      ],
      "metadata": {
        "id": "5sKm5zHSMZ_x"
      },
      "execution_count": 27,
      "outputs": []
    },
    {
      "cell_type": "code",
      "source": [
        "# Calculate metrics with macro averaging\n",
        "accuracy = accuracy_score(y_test_dense, y_pred_dense)\n",
        "precision = precision_score(y_test_dense, y_pred_dense, average='macro')\n",
        "recall = recall_score(y_test_dense, y_pred_dense, average='macro')\n",
        "f1 = f1_score(y_test_dense, y_pred_dense, average='macro')"
      ],
      "metadata": {
        "id": "F4yCg8ehrkRd"
      },
      "execution_count": 28,
      "outputs": []
    },
    {
      "cell_type": "code",
      "source": [
        "print(f\"Accuracy: {accuracy:.4f}\")\n",
        "print(f\"Precision (Macro Avg): {precision:.4f}\")\n",
        "print(f\"Recall (Macro Avg): {recall:.4f}\")\n",
        "print(f\"F1-Score (Macro Avg): {f1:.4f}\")"
      ],
      "metadata": {
        "id": "I3_9wgDREUna",
        "colab": {
          "base_uri": "https://localhost:8080/"
        },
        "outputId": "0073b655-cd38-4339-b5ec-7321df956c77"
      },
      "execution_count": 30,
      "outputs": [
        {
          "output_type": "stream",
          "name": "stdout",
          "text": [
            "Accuracy: 0.3333\n",
            "Precision (Macro Avg): 0.2222\n",
            "Recall (Macro Avg): 0.3333\n",
            "F1-Score (Macro Avg): 0.2667\n"
          ]
        }
      ]
    },
    {
      "cell_type": "markdown",
      "source": [
        "\n",
        "## 3.2. Exercise: Confusion matrix\n",
        "Calculate the confusion matrix and display the results in a heatmap (with decimal values).\n",
        "\n",
        "Hints:\n",
        "* you have to do the imports this time too, e.g. from [sklearn.metrics](https://scikit-learn.org/stable/modules/model_evaluation.html) and the [heatmap function](https://seaborn.pydata.org/generated/seaborn.heatmap.html) of [seaborn](https://seaborn.pydata.org/)\n",
        "* for displaying the decimal values, you have to turn annot=True and define fmt='d' in the heatmap function of seaborn"
      ],
      "metadata": {
        "id": "ECHguBFtGL7f"
      }
    },
    {
      "cell_type": "code",
      "source": [
        "from sklearn.metrics import confusion_matrix\n",
        "import seaborn as sns\n",
        "import matplotlib.pyplot as plt"
      ],
      "metadata": {
        "id": "SIi2VzMBO3yD"
      },
      "execution_count": 25,
      "outputs": []
    },
    {
      "cell_type": "code",
      "metadata": {
        "id": "cdqODx92Svw7",
        "colab": {
          "base_uri": "https://localhost:8080/",
          "height": 564
        },
        "outputId": "e964f35a-9e4a-48ad-d18e-f85b5612216a"
      },
      "source": [
        "# calc confusion matrix\n",
        "conf = confusion_matrix(y_test_dense, y_pred_dense)\n",
        "\n",
        "# confusion matrix as a heatmap\n",
        "plt.figure(figsize=(7, 6))\n",
        "sns.heatmap(conf, annot=True, fmt='d', cmap='YlGnBu')\n",
        "plt.title('Confusion Matrix')\n",
        "plt.xlabel('Predicted Labels')\n",
        "plt.ylabel('True Labels')\n",
        "plt.show()"
      ],
      "execution_count": 26,
      "outputs": [
        {
          "output_type": "display_data",
          "data": {
            "text/plain": [
              "<Figure size 700x600 with 2 Axes>"
            ],
            "image/png": "[encoded data removed]"
          },
          "metadata": {}
        }
      ]
    }
  ]
}